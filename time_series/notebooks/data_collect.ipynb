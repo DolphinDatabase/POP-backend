{
 "cells": [
  {
   "cell_type": "code",
   "execution_count": 7,
   "metadata": {},
   "outputs": [],
   "source": [
    "import psycopg2\n",
    "import geopandas as gpd\n",
    "import pandas as pd\n",
    "from shapely.geometry import Point,Polygon\n",
    "from datetime import date"
   ]
  },
  {
   "cell_type": "code",
   "execution_count": 8,
   "metadata": {},
   "outputs": [],
   "source": [
    "db_con = {\n",
    "    'host':'localhost', \n",
    "    'database':'pop',\n",
    "    'user':'postgres', \n",
    "    'password':'root'\n",
    "}"
   ]
  },
  {
   "cell_type": "code",
   "execution_count": 9,
   "metadata": {},
   "outputs": [],
   "source": [
    "query = '''\n",
    "SELECT \n",
    "    opr.opr_fim_plantio as fim_plantio,\n",
    "    opr.opr_fim_colheita as fim_colheita,\n",
    "    glb.glb_id as id,\n",
    "    glb.glb_poligono as gleba\n",
    "FROM opr_operacao AS opr\n",
    "inner join \n",
    "\tglb_gleba as glb\n",
    "on glb.glb_opr = opr.opr_id\n",
    "and glb.glb_id in (1633,100,27)\n",
    "'''"
   ]
  },
  {
   "cell_type": "code",
   "execution_count": 10,
   "metadata": {},
   "outputs": [
    {
     "name": "stderr",
     "output_type": "stream",
     "text": [
      "/home/pedro/.local/lib/python3.10/site-packages/geopandas/io/sql.py:170: UserWarning: pandas only supports SQLAlchemy connectable (engine/connection) or database string URI or sqlite3 DBAPI2 connection. Other DBAPI2 objects are not tested. Please consider using SQLAlchemy.\n",
      "  df = pd.read_sql(\n"
     ]
    }
   ],
   "source": [
    "with psycopg2.connect(**db_con) as conn:\n",
    "    df = gpd.read_postgis(query,conn, geom_col='gleba')"
   ]
  },
  {
   "cell_type": "code",
   "execution_count": 11,
   "metadata": {},
   "outputs": [
    {
     "name": "stderr",
     "output_type": "stream",
     "text": [
      "/tmp/ipykernel_4326/2256651839.py:3: UserWarning: Geometry column does not contain geometry.\n",
      "  df['gleba'] = df['gleba'].apply(lambda geom: ','.join([f'[{x},{y}]' for x, y in geom.exterior.coords]))\n"
     ]
    },
    {
     "data": {
      "text/plain": [
       "fim_plantio     object\n",
       "fim_colheita    object\n",
       "id               int64\n",
       "gleba           object\n",
       "dtype: object"
      ]
     },
     "execution_count": 11,
     "metadata": {},
     "output_type": "execute_result"
    }
   ],
   "source": [
    "df['fim_plantio'] = pd.to_datetime(df['fim_plantio'], format='%Y-%m-%d').astype(str)\n",
    "df['fim_colheita'] = pd.to_datetime(df['fim_colheita'], format='%Y-%m-%d').astype(str)\n",
    "df['gleba'] = df['gleba'].apply(lambda geom: ','.join([f'[{x},{y}]' for x, y in geom.exterior.coords]))\n",
    "df.dtypes"
   ]
  },
  {
   "cell_type": "code",
   "execution_count": 13,
   "metadata": {},
   "outputs": [
    {
     "name": "stdout",
     "output_type": "stream",
     "text": [
      "27\n",
      "https://indices-svsux4mgsa-uc.a.run.app/time_series?dt_antes=2018-10-20&dt_depois=2019-02-20&safra=1&filter=%22whittaker%22&geom=[[[-52.571149,-23.467578],[-52.566832,-23.460926],[-52.566836,-23.460606],[-52.566873,-23.460442],[-52.566643,-23.460208],[-52.566501,-23.460056],[-52.566339,-23.460092],[-52.56588,-23.459437],[-52.565422,-23.458627],[-52.565582,-23.458198],[-52.565861,-23.457928],[-52.565818,-23.457586],[-52.566169,-23.45701],[-52.573432,-23.462384],[-52.572141,-23.465653],[-52.571625,-23.467043],[-52.571149,-23.467578]]]\n",
      "100\n",
      "https://indices-svsux4mgsa-uc.a.run.app/time_series?dt_antes=2018-10-27&dt_depois=2019-02-28&safra=1&filter=%22whittaker%22&geom=[[[-52.618858,-23.501058],[-52.620499,-23.502401],[-52.620982,-23.501889],[-52.621143,-23.501801],[-52.621368,-23.501574],[-52.621561,-23.501348],[-52.621679,-23.501141],[-52.621744,-23.500895],[-52.619555,-23.499346],[-52.617227,-23.497737],[-52.616519,-23.498327],[-52.61609,-23.498721],[-52.615693,-23.499065],[-52.616519,-23.499538],[-52.616894,-23.499779],[-52.618858,-23.501058]]]\n",
      "1633\n",
      "https://indices-svsux4mgsa-uc.a.run.app/time_series?dt_antes=2018-10-20&dt_depois=2019-02-28&safra=1&filter=%22whittaker%22&geom=[[[-49.786423,-22.689405],[-49.785417,-22.690581],[-49.777859,-22.693717],[-49.774067,-22.690582],[-49.776841,-22.68548],[-49.778112,-22.686396],[-49.778747,-22.686549],[-49.779471,-22.686023],[-49.780399,-22.683238],[-49.781111,-22.682145],[-49.786423,-22.689405]]]\n"
     ]
    }
   ],
   "source": [
    "for row in df.iterrows():\n",
    "    print(row[1]['id'])\n",
    "    url = f'https://indices-svsux4mgsa-uc.a.run.app/time_series?dt_antes={row[1][\"fim_plantio\"]}&dt_depois={row[1][\"fim_colheita\"]}&safra=1&filter=%22whittaker%22&geom=[[{row[1][\"gleba\"]}]]'\n",
    "    print(url)"
   ]
  }
 ],
 "metadata": {
  "kernelspec": {
   "display_name": "Python 3",
   "language": "python",
   "name": "python3"
  },
  "language_info": {
   "codemirror_mode": {
    "name": "ipython",
    "version": 3
   },
   "file_extension": ".py",
   "mimetype": "text/x-python",
   "name": "python",
   "nbconvert_exporter": "python",
   "pygments_lexer": "ipython3",
   "version": "3.10.12"
  },
  "orig_nbformat": 4
 },
 "nbformat": 4,
 "nbformat_minor": 2
}
