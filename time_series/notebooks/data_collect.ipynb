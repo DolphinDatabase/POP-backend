{
 "cells": [
  {
   "cell_type": "code",
   "execution_count": 13,
   "metadata": {},
   "outputs": [],
   "source": [
    "import psycopg2\n",
    "import geopandas as gpd\n",
    "import pandas as pd\n",
    "from shapely.geometry import Point,Polygon\n",
    "from datetime import date"
   ]
  },
  {
   "cell_type": "code",
   "execution_count": 14,
   "metadata": {},
   "outputs": [],
   "source": [
    "db_con = {\n",
    "    'host':'localhost', \n",
    "    'database':'postgres',\n",
    "    'user':'postgres', \n",
    "    'password':'root'\n",
    "}"
   ]
  },
  {
   "cell_type": "code",
   "execution_count": 15,
   "metadata": {},
   "outputs": [],
   "source": [
    "query = '''\n",
    "SELECT \n",
    "    opr.opr_fim_plantio as fim_plantio,\n",
    "    opr.opr_fim_colheita as fim_colheita,\n",
    "    glb.glb_id as id,\n",
    "    glb.glb_poligono as gleba\n",
    "FROM opr_operacao AS opr\n",
    "inner join \n",
    "\tglb_gleba as glb\n",
    "on glb.opr_id = opr.opr_id\n",
    "and glb.glb_id in (1633,100,27)\n",
    "'''"
   ]
  },
  {
   "cell_type": "code",
   "execution_count": 16,
   "metadata": {},
   "outputs": [
    {
     "name": "stderr",
     "output_type": "stream",
     "text": [
      "/home/pedro/.local/lib/python3.10/site-packages/geopandas/io/sql.py:170: UserWarning: pandas only supports SQLAlchemy connectable (engine/connection) or database string URI or sqlite3 DBAPI2 connection. Other DBAPI2 objects are not tested. Please consider using SQLAlchemy.\n",
      "  df = pd.read_sql(\n"
     ]
    }
   ],
   "source": [
    "with psycopg2.connect(**db_con) as conn:\n",
    "    df = gpd.read_postgis(query,conn, geom_col='gleba')"
   ]
  },
  {
   "cell_type": "code",
   "execution_count": 17,
   "metadata": {},
   "outputs": [
    {
     "name": "stderr",
     "output_type": "stream",
     "text": [
      "/tmp/ipykernel_4875/1757581452.py:1: UserWarning: Geometry is in a geographic CRS. Results from 'centroid' are likely incorrect. Use 'GeoSeries.to_crs()' to re-project geometries to a projected CRS before this operation.\n",
      "\n",
      "  df['centroid'] = df['gleba'].centroid\n"
     ]
    }
   ],
   "source": [
    "df['centroid'] = df['gleba'].centroid\n",
    "df['latitude'] = df['centroid'].y\n",
    "df['longitude'] = df['centroid'].x"
   ]
  },
  {
   "cell_type": "code",
   "execution_count": 18,
   "metadata": {},
   "outputs": [],
   "source": [
    "df['fim_plantio'] = pd.to_datetime(df['fim_plantio'])\n",
    "df['fim_plantio_epoch'] = df['fim_plantio'].astype(int) // 10**9\n",
    "df['fim_colheita'] = pd.to_datetime(df['fim_colheita'])\n",
    "df['fim_colheita_epoch'] = df['fim_colheita'].astype(int) // 10**9"
   ]
  },
  {
   "cell_type": "code",
   "execution_count": 19,
   "metadata": {},
   "outputs": [
    {
     "name": "stdout",
     "output_type": "stream",
     "text": [
      "0    1540857600\n",
      "dtype: int64\n"
     ]
    }
   ],
   "source": [
    "teste = pd.Series(pd.to_datetime('2018-10-30'))\n",
    "print(teste.astype(int) // 10**9)"
   ]
  },
  {
   "cell_type": "code",
   "execution_count": 20,
   "metadata": {},
   "outputs": [
    {
     "data": {
      "text/plain": [
       "fim_plantio           datetime64[ns]\n",
       "fim_colheita          datetime64[ns]\n",
       "id                             int64\n",
       "gleba                       geometry\n",
       "centroid                    geometry\n",
       "latitude                     float64\n",
       "longitude                    float64\n",
       "fim_plantio_epoch              int64\n",
       "fim_colheita_epoch             int64\n",
       "dtype: object"
      ]
     },
     "execution_count": 20,
     "metadata": {},
     "output_type": "execute_result"
    }
   ],
   "source": [
    "df.dtypes"
   ]
  },
  {
   "cell_type": "code",
   "execution_count": 21,
   "metadata": {},
   "outputs": [
    {
     "data": {
      "text/html": [
       "<div>\n",
       "<style scoped>\n",
       "    .dataframe tbody tr th:only-of-type {\n",
       "        vertical-align: middle;\n",
       "    }\n",
       "\n",
       "    .dataframe tbody tr th {\n",
       "        vertical-align: top;\n",
       "    }\n",
       "\n",
       "    .dataframe thead th {\n",
       "        text-align: right;\n",
       "    }\n",
       "</style>\n",
       "<table border=\"1\" class=\"dataframe\">\n",
       "  <thead>\n",
       "    <tr style=\"text-align: right;\">\n",
       "      <th></th>\n",
       "      <th>fim_plantio</th>\n",
       "      <th>fim_colheita</th>\n",
       "      <th>id</th>\n",
       "      <th>gleba</th>\n",
       "      <th>centroid</th>\n",
       "      <th>latitude</th>\n",
       "      <th>longitude</th>\n",
       "      <th>fim_plantio_epoch</th>\n",
       "      <th>fim_colheita_epoch</th>\n",
       "    </tr>\n",
       "  </thead>\n",
       "  <tbody>\n",
       "    <tr>\n",
       "      <th>0</th>\n",
       "      <td>2018-10-20</td>\n",
       "      <td>2019-02-20</td>\n",
       "      <td>27</td>\n",
       "      <td>POLYGON ((-52.57115 -23.46758, -52.56683 -23.4...</td>\n",
       "      <td>POINT (-52.56964 -23.46209)</td>\n",
       "      <td>-23.462091</td>\n",
       "      <td>-52.569642</td>\n",
       "      <td>1539993600</td>\n",
       "      <td>1550620800</td>\n",
       "    </tr>\n",
       "    <tr>\n",
       "      <th>1</th>\n",
       "      <td>2018-10-27</td>\n",
       "      <td>2019-02-28</td>\n",
       "      <td>100</td>\n",
       "      <td>POLYGON ((-52.61886 -23.50106, -52.62050 -23.5...</td>\n",
       "      <td>POINT (-52.61885 -23.50001)</td>\n",
       "      <td>-23.500009</td>\n",
       "      <td>-52.618849</td>\n",
       "      <td>1540598400</td>\n",
       "      <td>1551312000</td>\n",
       "    </tr>\n",
       "    <tr>\n",
       "      <th>2</th>\n",
       "      <td>2018-10-20</td>\n",
       "      <td>2019-02-28</td>\n",
       "      <td>1633</td>\n",
       "      <td>POLYGON ((-49.78642 -22.68941, -49.78542 -22.6...</td>\n",
       "      <td>POINT (-49.78018 -22.68878)</td>\n",
       "      <td>-22.688777</td>\n",
       "      <td>-49.780181</td>\n",
       "      <td>1539993600</td>\n",
       "      <td>1551312000</td>\n",
       "    </tr>\n",
       "  </tbody>\n",
       "</table>\n",
       "</div>"
      ],
      "text/plain": [
       "  fim_plantio fim_colheita    id  \\\n",
       "0  2018-10-20   2019-02-20    27   \n",
       "1  2018-10-27   2019-02-28   100   \n",
       "2  2018-10-20   2019-02-28  1633   \n",
       "\n",
       "                                               gleba  \\\n",
       "0  POLYGON ((-52.57115 -23.46758, -52.56683 -23.4...   \n",
       "1  POLYGON ((-52.61886 -23.50106, -52.62050 -23.5...   \n",
       "2  POLYGON ((-49.78642 -22.68941, -49.78542 -22.6...   \n",
       "\n",
       "                      centroid   latitude  longitude  fim_plantio_epoch  \\\n",
       "0  POINT (-52.56964 -23.46209) -23.462091 -52.569642         1539993600   \n",
       "1  POINT (-52.61885 -23.50001) -23.500009 -52.618849         1540598400   \n",
       "2  POINT (-49.78018 -22.68878) -22.688777 -49.780181         1539993600   \n",
       "\n",
       "   fim_colheita_epoch  \n",
       "0          1550620800  \n",
       "1          1551312000  \n",
       "2          1551312000  "
      ]
     },
     "execution_count": 21,
     "metadata": {},
     "output_type": "execute_result"
    }
   ],
   "source": [
    "df.head(10)"
   ]
  },
  {
   "cell_type": "code",
   "execution_count": 22,
   "metadata": {},
   "outputs": [
    {
     "name": "stderr",
     "output_type": "stream",
     "text": [
      "/tmp/ipykernel_4875/2256651839.py:3: UserWarning: Geometry column does not contain geometry.\n",
      "  df['gleba'] = df['gleba'].apply(lambda geom: ','.join([f'[{x},{y}]' for x, y in geom.exterior.coords]))\n"
     ]
    },
    {
     "data": {
      "text/plain": [
       "fim_plantio             object\n",
       "fim_colheita            object\n",
       "id                       int64\n",
       "gleba                   object\n",
       "centroid              geometry\n",
       "latitude               float64\n",
       "longitude              float64\n",
       "fim_plantio_epoch        int64\n",
       "fim_colheita_epoch       int64\n",
       "dtype: object"
      ]
     },
     "execution_count": 22,
     "metadata": {},
     "output_type": "execute_result"
    }
   ],
   "source": [
    "df['fim_plantio'] = pd.to_datetime(df['fim_plantio'], format='%Y-%m-%d').astype(str)\n",
    "df['fim_colheita'] = pd.to_datetime(df['fim_colheita'], format='%Y-%m-%d').astype(str)\n",
    "df['gleba'] = df['gleba'].apply(lambda geom: ','.join([f'[{x},{y}]' for x, y in geom.exterior.coords]))\n",
    "df.dtypes"
   ]
  },
  {
   "cell_type": "code",
   "execution_count": 23,
   "metadata": {},
   "outputs": [
    {
     "name": "stdout",
     "output_type": "stream",
     "text": [
      "27\n",
      "https://indices-svsux4mgsa-uc.a.run.app/time_series?dt_antes=2018-10-20&dt_depois=2019-02-20&safra=1&filter=%22whittaker%22&geom=[[[-52.571149,-23.467578],[-52.566832,-23.460926],[-52.566836,-23.460606],[-52.566873,-23.460442],[-52.566643,-23.460208],[-52.566501,-23.460056],[-52.566339,-23.460092],[-52.56588,-23.459437],[-52.565422,-23.458627],[-52.565582,-23.458198],[-52.565861,-23.457928],[-52.565818,-23.457586],[-52.566169,-23.45701],[-52.573432,-23.462384],[-52.572141,-23.465653],[-52.571625,-23.467043],[-52.571149,-23.467578]]]\n",
      "100\n",
      "https://indices-svsux4mgsa-uc.a.run.app/time_series?dt_antes=2018-10-27&dt_depois=2019-02-28&safra=1&filter=%22whittaker%22&geom=[[[-52.618858,-23.501058],[-52.620499,-23.502401],[-52.620982,-23.501889],[-52.621143,-23.501801],[-52.621368,-23.501574],[-52.621561,-23.501348],[-52.621679,-23.501141],[-52.621744,-23.500895],[-52.619555,-23.499346],[-52.617227,-23.497737],[-52.616519,-23.498327],[-52.61609,-23.498721],[-52.615693,-23.499065],[-52.616519,-23.499538],[-52.616894,-23.499779],[-52.618858,-23.501058]]]\n",
      "1633\n",
      "https://indices-svsux4mgsa-uc.a.run.app/time_series?dt_antes=2018-10-20&dt_depois=2019-02-28&safra=1&filter=%22whittaker%22&geom=[[[-49.786423,-22.689405],[-49.785417,-22.690581],[-49.777859,-22.693717],[-49.774067,-22.690582],[-49.776841,-22.68548],[-49.778112,-22.686396],[-49.778747,-22.686549],[-49.779471,-22.686023],[-49.780399,-22.683238],[-49.781111,-22.682145],[-49.786423,-22.689405]]]\n"
     ]
    }
   ],
   "source": [
    "for row in df.iterrows():\n",
    "    print(row[1]['id'])\n",
    "    url = f'https://indices-svsux4mgsa-uc.a.run.app/time_series?dt_antes={row[1][\"fim_plantio\"]}&dt_depois={row[1][\"fim_colheita\"]}&safra=1&filter=%22whittaker%22&geom=[[{row[1][\"gleba\"]}]]'\n",
    "    print(url)"
   ]
  },
  {
   "cell_type": "code",
   "execution_count": 27,
   "metadata": {},
   "outputs": [
    {
     "name": "stdout",
     "output_type": "stream",
     "text": [
      "27\n",
      "https://history.openweathermap.org/data/2.5/history/city?lat=-23.46209111402962&lon=-52.56964206024581&units=metric&appid=d1955cd784b7f8da530f2f7ec6e0d652&type=weekly\n",
      "100\n",
      "https://history.openweathermap.org/data/2.5/history/city?lat=-23.500009295950996&lon=-52.618849190658715&units=metric&appid=d1955cd784b7f8da530f2f7ec6e0d652&type=weekly\n",
      "1633\n",
      "https://history.openweathermap.org/data/2.5/history/city?lat=-22.688776968524706&lon=-49.78018056845981&units=metric&appid=d1955cd784b7f8da530f2f7ec6e0d652&type=weekly\n"
     ]
    }
   ],
   "source": [
    "import requests\n",
    "import json \n",
    "\n",
    "for row in df.iterrows():\n",
    "    print(row[1]['id'])\n",
    "    url = f'https://history.openweathermap.org/data/2.5/history/city?lat={row[1][\"latitude\"]}&lon={row[1][\"longitude\"]}&units=metric&appid=d1955cd784b7f8da530f2f7ec6e0d652&type=weekly'\n",
    "    print(url)\n",
    "    res = requests.get(url)\n",
    "    if res.status_code == 200:\n",
    "        with open(f'../open_weather/{row[1][\"id\"]}.json','w') as file:\n",
    "            file.write(json.dumps(res.json()))"
   ]
  }
 ],
 "metadata": {
  "kernelspec": {
   "display_name": "Python 3",
   "language": "python",
   "name": "python3"
  },
  "language_info": {
   "codemirror_mode": {
    "name": "ipython",
    "version": 3
   },
   "file_extension": ".py",
   "mimetype": "text/x-python",
   "name": "python",
   "nbconvert_exporter": "python",
   "pygments_lexer": "ipython3",
   "version": "3.10.12"
  },
  "orig_nbformat": 4
 },
 "nbformat": 4,
 "nbformat_minor": 2
}
